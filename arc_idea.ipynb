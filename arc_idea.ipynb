{
 "cells": [
  {
   "cell_type": "code",
   "execution_count": 10,
   "metadata": {
    "collapsed": true
   },
   "outputs": [],
   "source": [
    "import tensorflow as tf\n",
    "import numpy as np\n",
    "\n",
    "rnd = np.random.RandomState(seed=13)\n",
    "n_units = 10\n",
    "n_in = 3\n",
    "n_out = 1\n",
    "\n",
    "x = tf.placeholder(dtype=tf.float32, shape=(None, n_in), name=\"ExternalInput\")\n",
    "W_init = rnd.normal(size=(n_in, n_units), loc=0, scale=.01)\n",
    "b_init = np.zeros(shape=(n_units,))\n",
    "W = tf.Variable(initial_value=W_init, name='W', dtype=tf.float32)\n",
    "b = tf.Variable(initial_value=b_init, name='b', dtype=tf.float32)\n",
    "a = tf.matmul(x, W) + b\n",
    "h = tf.tanh(a)\n",
    "W_out_init = rnd.normal(size=(n_units, n_out), loc=0, scale=.01)\n",
    "W_out = tf.Variable(initial_value=W_out_init, name='W_out', dtype=tf.float32)\n",
    "\n",
    "b_out_init = np.zeros(shape=(n_out,))\n",
    "b_out = tf.Variable(initial_value=b_out_init, name='b_out', dtype=tf.float32)\n",
    "y = tf.matmul(h, W_out) + b_out"
   ]
  },
  {
   "cell_type": "code",
   "execution_count": 11,
   "metadata": {},
   "outputs": [],
   "source": [
    "# task\n",
    "t = tf.reduce_sum(x, axis=1)/3\n",
    "loss = tf.reduce_mean(tf.abs((y-t)), axis=0)"
   ]
  },
  {
   "cell_type": "code",
   "execution_count": 12,
   "metadata": {},
   "outputs": [],
   "source": [
    "# training step\n",
    "alpha = 0.001\n",
    "gW_out, gb_out = tf.gradients(loss, [W_out, b_out])\n",
    "gh = tf.gradients(loss, h)[0]\n",
    "h_1 = h - alpha * gh\n",
    "\n",
    "# a_star = a  # TODO\n",
    "cutoff = 0.99\n",
    "\n",
    "\n",
    "def arctanh(x):\n",
    "    return (tf.log(1 + x) - tf.log(1 - x)) / 2\n",
    "\n",
    "a_star = tf.where(tf.logical_and(h_1 > h, h > cutoff), a,\n",
    "                  tf.where(tf.logical_and(h_1 < h, h < -cutoff), a, arctanh(h_1)))\n",
    "\n",
    "d = a_star - a\n",
    "\n",
    "ga_W_in, ga_b_in = tf.gradients(tf.reduce_mean((a - a_star) ** 2, axis=0), [W, b])\n",
    "# ga_W_in, ga_b_in = tf.gradients(loss, [W, b])\n",
    "\n",
    "grad_var_pairs = ((gW_out, W_out), (gb_out, b_out), (ga_b_in, b), (ga_W_in, W))\n",
    "grads = [tf.reshape(g[0], [-1]) for g in grad_var_pairs]\n",
    "gradient = tf.concat(0, grads)\n",
    "\n",
    "optimizer = tf.train.GradientDescentOptimizer(learning_rate=alpha)\n",
    "train_op = optimizer.apply_gradients(grad_var_pairs)"
   ]
  },
  {
   "cell_type": "code",
   "execution_count": 13,
   "metadata": {},
   "outputs": [],
   "source": [
    "import sys\n",
    "sys.stdout = open('/dev/stdout', 'w')\n",
    "\n",
    "x_val = rnd.uniform(size=(2000, n_in))\n",
    "batch_size = 50\n",
    "\n",
    "sess = tf.InteractiveSession()\n",
    "sess.run(tf.local_variables_initializer())\n",
    "sess.run(tf.global_variables_initializer())\n",
    "\n",
    "print(\"Training...\")\n",
    "for i in range(1000):\n",
    "    x_np = rnd.uniform(size=(batch_size, n_in), low=0, high=1)\n",
    "    _, grad_norm = sess.run((train_op, tf.reduce_sum(tf.reduce_sum(gradient**2))), feed_dict={x: x_np})\n",
    "    if i % 100 == 0:\n",
    "        val_error = sess.run(tf.reduce_mean(tf.reduce_mean(tf.abs(y - t))), feed_dict={x: x_val})\n",
    "        print('Iteration {} -> val error:{:.2f}, g_norm: {:.2f}'.format(i, val_error, grad_norm))\n",
    "        sys.stdout.flush()"
   ]
  },
  {
   "cell_type": "code",
   "execution_count": 9,
   "metadata": {},
   "outputs": [],
   "source": [
    "x_np = rnd.uniform(size=(3, n_in))\n",
    "print(\"x: \", x_np)\n",
    "y_, t_, loss_ = sess.run((y, t, loss), feed_dict={x: x_np})\n",
    "print(\"y: \", y_)\n",
    "print(\"t: \", t_)\n",
    "print(\"loss: \", loss_)"
   ]
  },
  {
   "cell_type": "code",
   "execution_count": null,
   "metadata": {},
   "outputs": [],
   "source": [
    ""
   ]
  }
 ],
 "metadata": {
  "kernelspec": {
   "display_name": "Python 2",
   "language": "python",
   "name": "python2"
  },
  "language_info": {
   "codemirror_mode": {
    "name": "ipython",
    "version": 2.0
   },
   "file_extension": ".py",
   "mimetype": "text/x-python",
   "name": "python",
   "nbconvert_exporter": "python",
   "pygments_lexer": "ipython2",
   "version": "2.7.6"
  }
 },
 "nbformat": 4,
 "nbformat_minor": 0
}